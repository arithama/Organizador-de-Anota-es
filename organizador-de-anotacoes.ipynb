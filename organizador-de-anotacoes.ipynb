{
  "nbformat": 4,
  "nbformat_minor": 0,
  "metadata": {
    "colab": {
      "provenance": [],
      "mount_file_id": "1PayZqBoe6V1sv8tiG56H9976xp07SeNU",
      "authorship_tag": "ABX9TyOtgYMdK9WPQnx2BroENa6M",
      "include_colab_link": true
    },
    "kernelspec": {
      "name": "python3",
      "display_name": "Python 3"
    },
    "language_info": {
      "name": "python"
    }
  },
  "cells": [
    {
      "cell_type": "markdown",
      "metadata": {
        "id": "view-in-github",
        "colab_type": "text"
      },
      "source": [
        "<a href=\"https://colab.research.google.com/github/arithama/Organizador-de-Anotacoes-Gemini/blob/main/organizador-de-anotacoes.ipynb\" target=\"_parent\"><img src=\"https://colab.research.google.com/assets/colab-badge.svg\" alt=\"Open In Colab\"/></a>"
      ]
    },
    {
      "cell_type": "markdown",
      "source": [
        "Importando as bibliotecas necessárias e configurando a chave. Coloque a sua própria API key acessando a aba \"Secrets\" no menu lateral do Google Colab"
      ],
      "metadata": {
        "id": "sHmCllteWmmq"
      }
    },
    {
      "cell_type": "code",
      "execution_count": null,
      "metadata": {
        "id": "JLiAtx3IWSdg"
      },
      "outputs": [],
      "source": [
        "!pip install -q google-generativeai\n",
        "!pip install -q PyDrive\n",
        "\n",
        "import google.generativeai as genai\n",
        "import pathlib\n",
        "import textwrap\n",
        "import json\n",
        "import shutil\n",
        "import os\n",
        "from google.colab import files\n",
        "from google.colab import userdata\n",
        "from google.colab import drive\n",
        "from googleapiclient.discovery import build\n",
        "from googleapiclient.http import MediaFileUpload\n",
        "from vertexai.generative_models import GenerationConfig\n",
        "from PIL import Image\n",
        "\n",
        "GOOGLE_API_KEY = userdata.get('GOOGLE_API_KEY')\n",
        "\n",
        "genai.configure(api_key=GOOGLE_API_KEY)\n"
      ]
    },
    {
      "cell_type": "markdown",
      "source": [
        "Configurando o modelo e pegando o acesso ao Google Drive"
      ],
      "metadata": {
        "id": "3XQ0fllEAyIQ"
      }
    },
    {
      "cell_type": "code",
      "source": [
        "model = genai.GenerativeModel('models/gemini-pro-vision')\n",
        "\n",
        "config = {\n",
        "    \"max_output_tokens\": 2048,\n",
        "    \"temperature\": 0.1,\n",
        "    \"top_p\": 1,\n",
        "    \"top_k\": 16\n",
        "}\n",
        "\n",
        "instruction = 'Você analisa fotos de anotações de estudantes. Eles colocam a matéria, a data e o conteúdo no topo da folha. Exemplo: \"História - Segunda Guerra Mundial - 08/05/2024\". O retorno será apenas a string e os valores não podem ter mais de 3 palavras: {\"Matéria\": \"matéria\", \"Data\": \"data\", \"Conteúdo\": \"conteúdo\"}'\n",
        "\n",
        "drive.mount('/content/gdrive')\n",
        "service = build('drive', 'v3')\n"
      ],
      "metadata": {
        "colab": {
          "base_uri": "https://localhost:8080/"
        },
        "id": "BNOG4h_60lFf",
        "outputId": "fb791745-47fb-42fe-e311-fcf0c56c60ae"
      },
      "execution_count": null,
      "outputs": [
        {
          "output_type": "stream",
          "name": "stdout",
          "text": [
            "Mounted at /content/gdrive\n"
          ]
        }
      ]
    },
    {
      "cell_type": "markdown",
      "source": [
        "Criando o diretório base \"Anotações\" no seu Google Drive. As pastas das matérias ficarão nele. Se ele já existir, pule esse passo."
      ],
      "metadata": {
        "id": "KlDmN0MLA3ZP"
      }
    },
    {
      "cell_type": "code",
      "source": [
        "os.makedirs('/content/gdrive/MyDrive/Anotações')"
      ],
      "metadata": {
        "id": "cVw7-1gH03EW"
      },
      "execution_count": null,
      "outputs": []
    },
    {
      "cell_type": "markdown",
      "source": [
        "Faça o upload das imagens na janela de input que será aberta em baixo da célula de código. O modelo buscará as palavras chaves no cabeçalho da anotação e as guardará em um objeto. Depois, criará as subpastas de acordo com a matéria, além de modificar o nome do arquivo para ficar mais fácil de buscá-los.\n"
      ],
      "metadata": {
        "id": "UHBC88Q8XyM7"
      }
    },
    {
      "cell_type": "code",
      "source": [
        "\n",
        "print(\"\\033[1mBem vindo ao sistema de organização de anotações automático. Faça o upload das suas anotações:\\033[0m\")\n",
        "uploaded = files.upload()\n",
        "\n",
        "if uploaded:\n",
        "  for file in uploaded:\n",
        "    image = Image.open(f'/content/{file}')\n",
        "    response = model.generate_content([f\"{instruction}\", image], generation_config = config, stream=False)\n",
        "    response.resolve()\n",
        "    print(response.text)\n",
        "    parsed_response = json.loads(response.text)\n",
        "    print(parsed_response)\n",
        "\n",
        "    # Accessing the parsed data\n",
        "    subject = parsed_response[\"Matéria\"]\n",
        "    date = parsed_response[\"Data\"]\n",
        "    content = parsed_response[\"Conteúdo\"]\n",
        "\n",
        "    # Printing the parsed data\n",
        "    print(\"Subject:\", subject)\n",
        "    print(\"Date:\", date)\n",
        "    print(\"Content:\", content)\n",
        "\n",
        "    folder_path = f'/content/gdrive/My Drive/Anotações/{subject}'\n",
        "    new_filename = f\"{content}-{date.replace('/', '-')}\"\n",
        "\n",
        "    if not os.path.exists(folder_path):\n",
        "    # If the folder doesn't exist, create it\n",
        "      os.makedirs(folder_path)\n",
        "      print(f\"Pasta para a nova matéria {subject} criada.\")\n",
        "    else:\n",
        "      print(f\"Pasta para a matéria {subject} já existia.\")\n",
        "\n",
        "    new_image_path = os.path.join(folder_path, f\"{new_filename}.jpg\")\n",
        "    shutil.move(f\"/content/{file}\", new_image_path)\n",
        "    drive.flush_and_unmount()\n",
        "    drive.mount('/content/gdrive', force_remount=True)\n",
        "\n",
        "print(\"Suas anotações foram organizadas com sucesso, elas já estão no seu Google Drive!\")"
      ],
      "metadata": {
        "id": "mSXWvZt6WkOI"
      },
      "execution_count": null,
      "outputs": []
    },
    {
      "cell_type": "code",
      "source": [
        "drive.flush_and_unmount()"
      ],
      "metadata": {
        "id": "7UmoOUiIGzMm",
        "collapsed": true
      },
      "execution_count": null,
      "outputs": []
    }
  ]
}