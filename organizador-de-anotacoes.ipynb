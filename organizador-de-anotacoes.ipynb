{
  "nbformat": 4,
  "nbformat_minor": 0,
  "metadata": {
    "colab": {
      "provenance": [],
      "mount_file_id": "1PayZqBoe6V1sv8tiG56H9976xp07SeNU",
      "authorship_tag": "ABX9TyOtgYMdK9WPQnx2BroENa6M",
      "include_colab_link": true
    },
    "kernelspec": {
      "name": "python3",
      "display_name": "Python 3"
    },
    "language_info": {
      "name": "python"
    }
  },
  "cells": [
    {
      "cell_type": "markdown",
      "metadata": {
        "id": "view-in-github",
        "colab_type": "text"
      },
      "source": [
        "<a href=\"https://colab.research.google.com/github/arithama/Organizador-de-Anotacoes-Gemini/blob/main/organizador-de-anotacoes.ipynb\" target=\"_parent\"><img src=\"https://colab.research.google.com/assets/colab-badge.svg\" alt=\"Open In Colab\"/></a>"
      ]
    },
    {
      "cell_type": "markdown",
      "source": [
        "Importando as bibliotecas necessárias e configurando a chave. Coloque a sua própria API key acessando a aba \"Secrets\" no menu lateral do Google Colab"
      ],
      "metadata": {
        "id": "sHmCllteWmmq"
      }
    },
    {
      "cell_type": "code",
      "execution_count": null,
      "metadata": {
        "id": "JLiAtx3IWSdg"
      },
      "outputs": [],
      "source": [
        "!pip install -q google-generativeai\n",
        "!pip install -q PyDrive\n",
        "\n",
        "import google.generativeai as genai\n",
        "import pathlib\n",
        "import textwrap\n",
        "import json\n",
        "import shutil\n",
        "import os\n",
        "from google.colab import files\n",
        "from google.colab import userdata\n",
        "from google.colab import drive\n",
        "from googleapiclient.discovery import build\n",
        "from googleapiclient.http import MediaFileUpload\n",
        "from vertexai.generative_models import GenerationConfig\n",
        "from PIL import Image\n",
        "\n",
        "GOOGLE_API_KEY = userdata.get('GOOGLE_API_KEY')\n",
        "\n",
        "genai.configure(api_key=GOOGLE_API_KEY)\n"
      ]
    },
    {
      "cell_type": "markdown",
      "source": [
        "Configurando o modelo e pegando o acesso ao Google Drive"
      ],
      "metadata": {
        "id": "3XQ0fllEAyIQ"
      }
    },
    {
      "cell_type": "code",
      "source": [
        "model = genai.GenerativeModel('models/gemini-pro-vision')\n",
        "\n",
        "config = {\n",
        "    \"max_output_tokens\": 2048,\n",
        "    \"temperature\": 0.1,\n",
        "    \"top_p\": 1,\n",
        "    \"top_k\": 16\n",
        "}\n",
        "\n",
        "instruction = 'Você analisa fotos de anotações de estudantes. Eles colocam a matéria, a data e o conteúdo no topo da folha. Exemplo: \"História - Segunda Guerra Mundial - 08/05/2024\". O retorno será apenas a string e os valores não podem ter mais de 3 palavras: {\"Matéria\": \"matéria\", \"Data\": \"data\", \"Conteúdo\": \"conteúdo\"}'\n",
        "\n",
        "drive.mount('/content/gdrive')\n",
        "service = build('drive', 'v3')\n"
      ],
      "metadata": {
        "colab": {
          "base_uri": "https://localhost:8080/"
        },
        "id": "BNOG4h_60lFf",
        "outputId": "fb791745-47fb-42fe-e311-fcf0c56c60ae"
      },
      "execution_count": null,
      "outputs": [
        {
          "output_type": "stream",
          "name": "stdout",
          "text": [
            "Mounted at /content/gdrive\n"
          ]
        }
      ]
    },
    {
      "cell_type": "markdown",
      "source": [
        "Criando o diretório base \"Anotações\" no seu Google Drive. As pastas das matérias ficarão nele. Se ele já existir, pule esse passo."
      ],
      "metadata": {
        "id": "KlDmN0MLA3ZP"
      }
    },
    {
      "cell_type": "code",
      "source": [
        "os.makedirs('/content/gdrive/MyDrive/Anotações')"
      ],
      "metadata": {
        "id": "cVw7-1gH03EW",
        "colab": {
          "base_uri": "https://localhost:8080/",
          "height": 258
        },
        "outputId": "316e90af-f15f-4000-ed76-29789b07b69a"
      },
      "execution_count": null,
      "outputs": [
        {
          "output_type": "error",
          "ename": "FileExistsError",
          "evalue": "[Errno 17] File exists: '/content/gdrive/MyDrive/Anotações'",
          "traceback": [
            "\u001b[0;31m---------------------------------------------------------------------------\u001b[0m",
            "\u001b[0;31mFileExistsError\u001b[0m                           Traceback (most recent call last)",
            "\u001b[0;32m<ipython-input-4-7c5a1095fd0b>\u001b[0m in \u001b[0;36m<cell line: 1>\u001b[0;34m()\u001b[0m\n\u001b[0;32m----> 1\u001b[0;31m \u001b[0mos\u001b[0m\u001b[0;34m.\u001b[0m\u001b[0mmakedirs\u001b[0m\u001b[0;34m(\u001b[0m\u001b[0;34m'/content/gdrive/MyDrive/Anotações'\u001b[0m\u001b[0;34m)\u001b[0m\u001b[0;34m\u001b[0m\u001b[0;34m\u001b[0m\u001b[0m\n\u001b[0m",
            "\u001b[0;32m/usr/lib/python3.10/os.py\u001b[0m in \u001b[0;36mmakedirs\u001b[0;34m(name, mode, exist_ok)\u001b[0m\n\u001b[1;32m    223\u001b[0m             \u001b[0;32mreturn\u001b[0m\u001b[0;34m\u001b[0m\u001b[0;34m\u001b[0m\u001b[0m\n\u001b[1;32m    224\u001b[0m     \u001b[0;32mtry\u001b[0m\u001b[0;34m:\u001b[0m\u001b[0;34m\u001b[0m\u001b[0;34m\u001b[0m\u001b[0m\n\u001b[0;32m--> 225\u001b[0;31m         \u001b[0mmkdir\u001b[0m\u001b[0;34m(\u001b[0m\u001b[0mname\u001b[0m\u001b[0;34m,\u001b[0m \u001b[0mmode\u001b[0m\u001b[0;34m)\u001b[0m\u001b[0;34m\u001b[0m\u001b[0;34m\u001b[0m\u001b[0m\n\u001b[0m\u001b[1;32m    226\u001b[0m     \u001b[0;32mexcept\u001b[0m \u001b[0mOSError\u001b[0m\u001b[0;34m:\u001b[0m\u001b[0;34m\u001b[0m\u001b[0;34m\u001b[0m\u001b[0m\n\u001b[1;32m    227\u001b[0m         \u001b[0;31m# Cannot rely on checking for EEXIST, since the operating system\u001b[0m\u001b[0;34m\u001b[0m\u001b[0;34m\u001b[0m\u001b[0m\n",
            "\u001b[0;31mFileExistsError\u001b[0m: [Errno 17] File exists: '/content/gdrive/MyDrive/Anotações'"
          ]
        }
      ]
    },
    {
      "cell_type": "markdown",
      "source": [
        "Faça o upload das imagens na janela de input que será aberta em baixo da célula de código. O modelo buscará as palavras chaves no cabeçalho da anotação e as guardará em um objeto. Depois, criará as subpastas de acordo com a matéria, além de modificar o nome do arquivo para ficar mais fácil de buscá-los.\n"
      ],
      "metadata": {
        "id": "UHBC88Q8XyM7"
      }
    },
    {
      "cell_type": "code",
      "source": [
        "\n",
        "print(\"\\033[1mBem vindo ao sistema de organização de anotações automático. Faça o upload das suas anotações:\\033[0m\")\n",
        "uploaded = files.upload()\n",
        "\n",
        "if uploaded:\n",
        "  for file in uploaded:\n",
        "    image = Image.open(f'/content/{file}')\n",
        "    response = model.generate_content([f\"{instruction}\", image], generation_config = config, stream=False)\n",
        "    response.resolve()\n",
        "    print(response.text)\n",
        "    parsed_response = json.loads(response.text)\n",
        "    print(parsed_response)\n",
        "\n",
        "    # Accessing the parsed data\n",
        "    subject = parsed_response[\"Matéria\"]\n",
        "    date = parsed_response[\"Data\"]\n",
        "    content = parsed_response[\"Conteúdo\"]\n",
        "\n",
        "    # Printing the parsed data\n",
        "    print(\"Subject:\", subject)\n",
        "    print(\"Date:\", date)\n",
        "    print(\"Content:\", content)\n",
        "\n",
        "    folder_path = f'/content/gdrive/My Drive/Anotações/{subject}'\n",
        "    new_filename = f\"{content}-{date.replace('/', '-')}\"\n",
        "\n",
        "    if not os.path.exists(folder_path):\n",
        "    # If the folder doesn't exist, create it\n",
        "      os.makedirs(folder_path)\n",
        "      print(f\"Pasta para a nova matéria {subject} criada.\")\n",
        "    else:\n",
        "      print(f\"Pasta para a matéria {subject} já existia.\")\n",
        "\n",
        "    new_image_path = os.path.join(folder_path, f\"{new_filename}.jpg\")\n",
        "    shutil.move(f\"/content/{file}\", new_image_path)\n",
        "    drive.flush_and_unmount()\n",
        "    drive.mount('/content/gdrive', force_remount=True)\n",
        "\n",
        "print(\"Suas anotações foram organizadas com sucesso, elas já estão no seu Google Drive!\")"
      ],
      "metadata": {
        "id": "mSXWvZt6WkOI",
        "colab": {
          "base_uri": "https://localhost:8080/",
          "height": 327
        },
        "outputId": "ca704ada-e64c-4e80-95e6-e86f6cd1e274"
      },
      "execution_count": null,
      "outputs": [
        {
          "output_type": "stream",
          "name": "stdout",
          "text": [
            "\u001b[1mBem vindo ao sistema de organização de anotações automático. Faça o upload das suas anotações:\u001b[0m\n"
          ]
        },
        {
          "output_type": "display_data",
          "data": {
            "text/plain": [
              "<IPython.core.display.HTML object>"
            ],
            "text/html": [
              "\n",
              "     <input type=\"file\" id=\"files-fdf4e9f2-bc7f-4dc3-86ba-27471f079de4\" name=\"files[]\" multiple disabled\n",
              "        style=\"border:none\" />\n",
              "     <output id=\"result-fdf4e9f2-bc7f-4dc3-86ba-27471f079de4\">\n",
              "      Upload widget is only available when the cell has been executed in the\n",
              "      current browser session. Please rerun this cell to enable.\n",
              "      </output>\n",
              "      <script>// Copyright 2017 Google LLC\n",
              "//\n",
              "// Licensed under the Apache License, Version 2.0 (the \"License\");\n",
              "// you may not use this file except in compliance with the License.\n",
              "// You may obtain a copy of the License at\n",
              "//\n",
              "//      http://www.apache.org/licenses/LICENSE-2.0\n",
              "//\n",
              "// Unless required by applicable law or agreed to in writing, software\n",
              "// distributed under the License is distributed on an \"AS IS\" BASIS,\n",
              "// WITHOUT WARRANTIES OR CONDITIONS OF ANY KIND, either express or implied.\n",
              "// See the License for the specific language governing permissions and\n",
              "// limitations under the License.\n",
              "\n",
              "/**\n",
              " * @fileoverview Helpers for google.colab Python module.\n",
              " */\n",
              "(function(scope) {\n",
              "function span(text, styleAttributes = {}) {\n",
              "  const element = document.createElement('span');\n",
              "  element.textContent = text;\n",
              "  for (const key of Object.keys(styleAttributes)) {\n",
              "    element.style[key] = styleAttributes[key];\n",
              "  }\n",
              "  return element;\n",
              "}\n",
              "\n",
              "// Max number of bytes which will be uploaded at a time.\n",
              "const MAX_PAYLOAD_SIZE = 100 * 1024;\n",
              "\n",
              "function _uploadFiles(inputId, outputId) {\n",
              "  const steps = uploadFilesStep(inputId, outputId);\n",
              "  const outputElement = document.getElementById(outputId);\n",
              "  // Cache steps on the outputElement to make it available for the next call\n",
              "  // to uploadFilesContinue from Python.\n",
              "  outputElement.steps = steps;\n",
              "\n",
              "  return _uploadFilesContinue(outputId);\n",
              "}\n",
              "\n",
              "// This is roughly an async generator (not supported in the browser yet),\n",
              "// where there are multiple asynchronous steps and the Python side is going\n",
              "// to poll for completion of each step.\n",
              "// This uses a Promise to block the python side on completion of each step,\n",
              "// then passes the result of the previous step as the input to the next step.\n",
              "function _uploadFilesContinue(outputId) {\n",
              "  const outputElement = document.getElementById(outputId);\n",
              "  const steps = outputElement.steps;\n",
              "\n",
              "  const next = steps.next(outputElement.lastPromiseValue);\n",
              "  return Promise.resolve(next.value.promise).then((value) => {\n",
              "    // Cache the last promise value to make it available to the next\n",
              "    // step of the generator.\n",
              "    outputElement.lastPromiseValue = value;\n",
              "    return next.value.response;\n",
              "  });\n",
              "}\n",
              "\n",
              "/**\n",
              " * Generator function which is called between each async step of the upload\n",
              " * process.\n",
              " * @param {string} inputId Element ID of the input file picker element.\n",
              " * @param {string} outputId Element ID of the output display.\n",
              " * @return {!Iterable<!Object>} Iterable of next steps.\n",
              " */\n",
              "function* uploadFilesStep(inputId, outputId) {\n",
              "  const inputElement = document.getElementById(inputId);\n",
              "  inputElement.disabled = false;\n",
              "\n",
              "  const outputElement = document.getElementById(outputId);\n",
              "  outputElement.innerHTML = '';\n",
              "\n",
              "  const pickedPromise = new Promise((resolve) => {\n",
              "    inputElement.addEventListener('change', (e) => {\n",
              "      resolve(e.target.files);\n",
              "    });\n",
              "  });\n",
              "\n",
              "  const cancel = document.createElement('button');\n",
              "  inputElement.parentElement.appendChild(cancel);\n",
              "  cancel.textContent = 'Cancel upload';\n",
              "  const cancelPromise = new Promise((resolve) => {\n",
              "    cancel.onclick = () => {\n",
              "      resolve(null);\n",
              "    };\n",
              "  });\n",
              "\n",
              "  // Wait for the user to pick the files.\n",
              "  const files = yield {\n",
              "    promise: Promise.race([pickedPromise, cancelPromise]),\n",
              "    response: {\n",
              "      action: 'starting',\n",
              "    }\n",
              "  };\n",
              "\n",
              "  cancel.remove();\n",
              "\n",
              "  // Disable the input element since further picks are not allowed.\n",
              "  inputElement.disabled = true;\n",
              "\n",
              "  if (!files) {\n",
              "    return {\n",
              "      response: {\n",
              "        action: 'complete',\n",
              "      }\n",
              "    };\n",
              "  }\n",
              "\n",
              "  for (const file of files) {\n",
              "    const li = document.createElement('li');\n",
              "    li.append(span(file.name, {fontWeight: 'bold'}));\n",
              "    li.append(span(\n",
              "        `(${file.type || 'n/a'}) - ${file.size} bytes, ` +\n",
              "        `last modified: ${\n",
              "            file.lastModifiedDate ? file.lastModifiedDate.toLocaleDateString() :\n",
              "                                    'n/a'} - `));\n",
              "    const percent = span('0% done');\n",
              "    li.appendChild(percent);\n",
              "\n",
              "    outputElement.appendChild(li);\n",
              "\n",
              "    const fileDataPromise = new Promise((resolve) => {\n",
              "      const reader = new FileReader();\n",
              "      reader.onload = (e) => {\n",
              "        resolve(e.target.result);\n",
              "      };\n",
              "      reader.readAsArrayBuffer(file);\n",
              "    });\n",
              "    // Wait for the data to be ready.\n",
              "    let fileData = yield {\n",
              "      promise: fileDataPromise,\n",
              "      response: {\n",
              "        action: 'continue',\n",
              "      }\n",
              "    };\n",
              "\n",
              "    // Use a chunked sending to avoid message size limits. See b/62115660.\n",
              "    let position = 0;\n",
              "    do {\n",
              "      const length = Math.min(fileData.byteLength - position, MAX_PAYLOAD_SIZE);\n",
              "      const chunk = new Uint8Array(fileData, position, length);\n",
              "      position += length;\n",
              "\n",
              "      const base64 = btoa(String.fromCharCode.apply(null, chunk));\n",
              "      yield {\n",
              "        response: {\n",
              "          action: 'append',\n",
              "          file: file.name,\n",
              "          data: base64,\n",
              "        },\n",
              "      };\n",
              "\n",
              "      let percentDone = fileData.byteLength === 0 ?\n",
              "          100 :\n",
              "          Math.round((position / fileData.byteLength) * 100);\n",
              "      percent.textContent = `${percentDone}% done`;\n",
              "\n",
              "    } while (position < fileData.byteLength);\n",
              "  }\n",
              "\n",
              "  // All done.\n",
              "  yield {\n",
              "    response: {\n",
              "      action: 'complete',\n",
              "    }\n",
              "  };\n",
              "}\n",
              "\n",
              "scope.google = scope.google || {};\n",
              "scope.google.colab = scope.google.colab || {};\n",
              "scope.google.colab._files = {\n",
              "  _uploadFiles,\n",
              "  _uploadFilesContinue,\n",
              "};\n",
              "})(self);\n",
              "</script> "
            ]
          },
          "metadata": {}
        },
        {
          "output_type": "stream",
          "name": "stdout",
          "text": [
            "Saving 2a59bf4e5aa444f1d0d86277d0a1791a.jpg to 2a59bf4e5aa444f1d0d86277d0a1791a.jpg\n",
            "Saving e06aee654f9fdbd769255df5091c935e.jpg to e06aee654f9fdbd769255df5091c935e.jpg\n",
            " {\"Matéria\": \"inglês\", \"Data\": \"vazio\", \"Conteúdo\": \"dicas para melhorar o seu inglês\"}\n",
            "{'Matéria': 'inglês', 'Data': 'vazio', 'Conteúdo': 'dicas para melhorar o seu inglês'}\n",
            "Subject: inglês\n",
            "Date: vazio\n",
            "Content: dicas para melhorar o seu inglês\n",
            "Pasta para a nova matéria inglês criada.\n",
            " {\"Matéria\": \"Geografia\", \"Data\": \"sem data\", \"Conteúdo\": \"Rosa dos ventos\"}\n",
            "{'Matéria': 'Geografia', 'Data': 'sem data', 'Conteúdo': 'Rosa dos ventos'}\n",
            "Subject: Geografia\n",
            "Date: sem data\n",
            "Content: Rosa dos ventos\n",
            "Pasta para a nova matéria Geografia criada.\n"
          ]
        }
      ]
    },
    {
      "cell_type": "code",
      "source": [
        "drive.flush_and_unmount()"
      ],
      "metadata": {
        "id": "7UmoOUiIGzMm",
        "colab": {
          "base_uri": "https://localhost:8080/",
          "height": 258
        },
        "outputId": "62461966-f39a-4743-c45e-ea62a3dc9ee1"
      },
      "execution_count": null,
      "outputs": [
        {
          "output_type": "error",
          "ename": "ValueError",
          "evalue": "flush_and_unmount failed",
          "traceback": [
            "\u001b[0;31m---------------------------------------------------------------------------\u001b[0m",
            "\u001b[0;31mValueError\u001b[0m                                Traceback (most recent call last)",
            "\u001b[0;32m<ipython-input-8-7e7fc67cc157>\u001b[0m in \u001b[0;36m<cell line: 1>\u001b[0;34m()\u001b[0m\n\u001b[0;32m----> 1\u001b[0;31m \u001b[0mdrive\u001b[0m\u001b[0;34m.\u001b[0m\u001b[0mflush_and_unmount\u001b[0m\u001b[0;34m(\u001b[0m\u001b[0;34m)\u001b[0m\u001b[0;34m\u001b[0m\u001b[0;34m\u001b[0m\u001b[0m\n\u001b[0m",
            "\u001b[0;32m/usr/local/lib/python3.10/dist-packages/google/colab/drive.py\u001b[0m in \u001b[0;36mflush_and_unmount\u001b[0;34m(timeout_ms)\u001b[0m\n\u001b[1;32m     93\u001b[0m     \u001b[0mprint\u001b[0m\u001b[0;34m(\u001b[0m\u001b[0;34m'flush_and_unmount: out: {}\\nerr: {}'\u001b[0m\u001b[0;34m.\u001b[0m\u001b[0mformat\u001b[0m\u001b[0;34m(\u001b[0m\u001b[0mout\u001b[0m\u001b[0;34m,\u001b[0m \u001b[0merr\u001b[0m\u001b[0;34m)\u001b[0m\u001b[0;34m)\u001b[0m\u001b[0;34m\u001b[0m\u001b[0;34m\u001b[0m\u001b[0m\n\u001b[1;32m     94\u001b[0m   \u001b[0;32mif\u001b[0m \u001b[0mp\u001b[0m\u001b[0;34m.\u001b[0m\u001b[0mreturncode\u001b[0m\u001b[0;34m:\u001b[0m\u001b[0;34m\u001b[0m\u001b[0;34m\u001b[0m\u001b[0m\n\u001b[0;32m---> 95\u001b[0;31m     \u001b[0;32mraise\u001b[0m \u001b[0mValueError\u001b[0m\u001b[0;34m(\u001b[0m\u001b[0;34m'flush_and_unmount failed'\u001b[0m\u001b[0;34m)\u001b[0m\u001b[0;34m\u001b[0m\u001b[0;34m\u001b[0m\u001b[0m\n\u001b[0m\u001b[1;32m     96\u001b[0m \u001b[0;34m\u001b[0m\u001b[0m\n\u001b[1;32m     97\u001b[0m \u001b[0;34m\u001b[0m\u001b[0m\n",
            "\u001b[0;31mValueError\u001b[0m: flush_and_unmount failed"
          ]
        }
      ]
    }
  ]
}